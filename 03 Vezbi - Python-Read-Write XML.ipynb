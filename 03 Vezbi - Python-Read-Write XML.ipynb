{
 "cells": [
  {
   "cell_type": "markdown",
   "metadata": {},
   "source": [
    "\n",
    "# Читање и пишување на XML документи во Python\n",
    "\n",
    "<br>\n",
    "\n",
    "Вежби, Веб сервиси и XML, 08.03.2017\n",
    "\n",
    "доц. д-р. Светлана Кордумова Трајанова\n",
    "\n",
    "<br>\n",
    "\n",
    "As we discussed in the lectures, XML, or Extensible Markup Language, is a markup-language that is commonly used to structure, store, and transfer data between systems. While not as common as it used to be, it is still used in services like RSS and SOAP, as well as for structuring files like Microsoft Office documents.\n",
    "\n",
    "With Python being a popular language for the web and data analysis, it's likely you'll need to read or write XML data at some point, in which case you're in luck.\n",
    "\n",
    "Throughout this article we'll primarily take a look at the **ElementTree** module for reading, writing, and modifying XML data. We'll also compare it with the older **minidom** module in the first few sections so you can get a good comparison of the two.\n",
    "\n",
    "## The XML Modules\n",
    "\n",
    "The minidom, or Minimal DOM Implementation, is a simplified implementation of the Document Object Model (DOM). The DOM is an application programming interface that treats XML as a tree structure, where each node in the tree is an object. Thus, the use of this module requires that we are familiar with its functionality.\n",
    "\n",
    "The ElementTree module provides a more \"Pythonic\" interface to handling XML and is a good option for those not familiar with the DOM. It is also likely a better candidate to be used by more novice programmers due to its simple interface, which you'll see throughout this article.\n",
    "\n",
    "In this tutorial, the ElementTree module will be used in all examples, whereas minidom will also be demonstrated, but only for counting and reading XML documents.\n",
    "\n",
    "## XML File Example\n",
    "\n",
    "In the examples below, we will be using the following XML text, which you should save as \"items.xml\":\n",
    "\n"
   ]
  },
  {
   "cell_type": "code",
   "execution_count": 1,
   "metadata": {},
   "outputs": [
    {
     "name": "stdout",
     "output_type": "stream",
     "text": [
      "\n",
      "<data>  \n",
      "     <items>\n",
      "        <item name=\"item1\">item1abc</item>\n",
      "        <item name=\"item2\">item2abc</item>\n",
      "    </items>\n",
      "</data>\n"
     ]
    }
   ],
   "source": [
    "xmlcontents = \"\"\"\n",
    "<data>  \n",
    "     <items>\n",
    "        <item name=\"item1\">item1abc</item>\n",
    "        <item name=\"item2\">item2abc</item>\n",
    "    </items>\n",
    "</data>\"\"\"\n",
    "\n",
    "print(xmlcontents)"
   ]
  },
  {
   "cell_type": "markdown",
   "metadata": {},
   "source": [
    "As you can see, it's a fairly simple XML example, only containing a few nested objects and one attribute. However, it should be enough to demonstrate all of the XML operations in this tutorial.\n",
    "\n",
    "\n",
    "## Reading XML Documents\n",
    "\n",
    "### Using minidom\n",
    "\n",
    "In order to parse an XML document using minidom, we must first import it from the xml.dom module. "
   ]
  },
  {
   "cell_type": "code",
   "execution_count": 2,
   "metadata": {},
   "outputs": [],
   "source": [
    "from xml.dom import minidom"
   ]
  },
  {
   "cell_type": "markdown",
   "metadata": {},
   "source": [
    "This module uses the parse function to create a DOM object from our XML file. The parse function has the following syntax:\n",
    "\n",
    "`xml.dom.minidom.parse(filename_or_file[, parser[, bufsize]])`\n",
    "\n",
    "Here the file name can be a string containing the file path or a file-type object. The function returns a document, which can be handled as an XML type. Thus, we can use the function `getElementByTagName()` to find a specific tag.\n",
    "\n",
    "Since each node can be treated as an object, we can access the attributes and text of an element using the properties of the object. In the example below, we have accessed the attributes and text of a specific node, and of all nodes together."
   ]
  },
  {
   "cell_type": "code",
   "execution_count": 3,
   "metadata": {
    "scrolled": true
   },
   "outputs": [
    {
     "ename": "FileNotFoundError",
     "evalue": "[Errno 2] No such file or directory: 'items.xml'",
     "output_type": "error",
     "traceback": [
      "\u001b[1;31m---------------------------------------------------------------------------\u001b[0m",
      "\u001b[1;31mFileNotFoundError\u001b[0m                         Traceback (most recent call last)",
      "Cell \u001b[1;32mIn[3], line 2\u001b[0m\n\u001b[0;32m      1\u001b[0m \u001b[38;5;66;03m# parse an xml file by name\u001b[39;00m\n\u001b[1;32m----> 2\u001b[0m mydoc \u001b[38;5;241m=\u001b[39m minidom\u001b[38;5;241m.\u001b[39mparse(\u001b[38;5;124m'\u001b[39m\u001b[38;5;124mitems.xml\u001b[39m\u001b[38;5;124m'\u001b[39m)\n\u001b[0;32m      4\u001b[0m items \u001b[38;5;241m=\u001b[39m mydoc\u001b[38;5;241m.\u001b[39mgetElementsByTagName(\u001b[38;5;124m'\u001b[39m\u001b[38;5;124mitem\u001b[39m\u001b[38;5;124m'\u001b[39m)\n\u001b[0;32m      6\u001b[0m \u001b[38;5;66;03m# one specific item attribute\u001b[39;00m\n",
      "File \u001b[1;32m~\\anaconda3\\Lib\\xml\\dom\\minidom.py:1990\u001b[0m, in \u001b[0;36mparse\u001b[1;34m(file, parser, bufsize)\u001b[0m\n\u001b[0;32m   1988\u001b[0m \u001b[38;5;28;01mif\u001b[39;00m parser \u001b[38;5;129;01mis\u001b[39;00m \u001b[38;5;28;01mNone\u001b[39;00m \u001b[38;5;129;01mand\u001b[39;00m \u001b[38;5;129;01mnot\u001b[39;00m bufsize:\n\u001b[0;32m   1989\u001b[0m     \u001b[38;5;28;01mfrom\u001b[39;00m \u001b[38;5;21;01mxml\u001b[39;00m\u001b[38;5;21;01m.\u001b[39;00m\u001b[38;5;21;01mdom\u001b[39;00m \u001b[38;5;28;01mimport\u001b[39;00m expatbuilder\n\u001b[1;32m-> 1990\u001b[0m     \u001b[38;5;28;01mreturn\u001b[39;00m expatbuilder\u001b[38;5;241m.\u001b[39mparse(file)\n\u001b[0;32m   1991\u001b[0m \u001b[38;5;28;01melse\u001b[39;00m:\n\u001b[0;32m   1992\u001b[0m     \u001b[38;5;28;01mfrom\u001b[39;00m \u001b[38;5;21;01mxml\u001b[39;00m\u001b[38;5;21;01m.\u001b[39;00m\u001b[38;5;21;01mdom\u001b[39;00m \u001b[38;5;28;01mimport\u001b[39;00m pulldom\n",
      "File \u001b[1;32m~\\anaconda3\\Lib\\xml\\dom\\expatbuilder.py:907\u001b[0m, in \u001b[0;36mparse\u001b[1;34m(file, namespaces)\u001b[0m\n\u001b[0;32m    904\u001b[0m     builder \u001b[38;5;241m=\u001b[39m ExpatBuilder()\n\u001b[0;32m    906\u001b[0m \u001b[38;5;28;01mif\u001b[39;00m \u001b[38;5;28misinstance\u001b[39m(file, \u001b[38;5;28mstr\u001b[39m):\n\u001b[1;32m--> 907\u001b[0m     \u001b[38;5;28;01mwith\u001b[39;00m \u001b[38;5;28mopen\u001b[39m(file, \u001b[38;5;124m'\u001b[39m\u001b[38;5;124mrb\u001b[39m\u001b[38;5;124m'\u001b[39m) \u001b[38;5;28;01mas\u001b[39;00m fp:\n\u001b[0;32m    908\u001b[0m         result \u001b[38;5;241m=\u001b[39m builder\u001b[38;5;241m.\u001b[39mparseFile(fp)\n\u001b[0;32m    909\u001b[0m \u001b[38;5;28;01melse\u001b[39;00m:\n",
      "\u001b[1;31mFileNotFoundError\u001b[0m: [Errno 2] No such file or directory: 'items.xml'"
     ]
    }
   ],
   "source": [
    "# parse an xml file by name\n",
    "mydoc = minidom.parse('items.xml')\n",
    "\n",
    "items = mydoc.getElementsByTagName('item')\n",
    "\n",
    "# one specific item attribute\n",
    "print('Item #2 attribute:')  \n",
    "print(items[1].attributes['name'].value)\n",
    "\n",
    "# all item attributes\n",
    "print('\\nAll attributes:')  \n",
    "for elem in items:  \n",
    "    print(elem.attributes['name'].value)\n",
    "\n",
    "# one specific item's data\n",
    "print('\\nItem #2 data:')  \n",
    "print(items[1].firstChild.data)  \n",
    "print(items[1].childNodes[0].data)\n",
    "\n",
    "# all items data\n",
    "print('\\nAll item data:')  \n",
    "for elem in items:  \n",
    "    print(elem.firstChild.data)"
   ]
  },
  {
   "cell_type": "markdown",
   "metadata": {},
   "source": [
    "### Using ElementTree\n",
    "\n",
    "`ElementTree` presents us with an very simple way to process XML files. As always, in order to use it we must first import the module. In our code we use the import command with the as keyword, which allows us to use a simplified name (ET in this case) for the module in the code.\n",
    "\n",
    "Following the import, we create a tree structure with the `parse` function, and we obtain its root element. Once we have access to the root node we can easily traverse around the tree, because a tree is a connected graph.\n",
    "\n",
    "Using ElementTree, and like the previous code example, we obtain the node attributes and text using the objects related to each node.\n",
    "\n",
    "The code is as follows:"
   ]
  },
  {
   "cell_type": "code",
   "execution_count": null,
   "metadata": {},
   "outputs": [],
   "source": [
    "import xml.etree.ElementTree as ET  \n",
    "\n",
    "tree = ET.parse('items.xml')  \n",
    "root = tree.getroot()\n",
    "\n",
    "# one specific item attribute\n",
    "print('Item #2 attribute:')  \n",
    "print(root[0][1].attrib)\n",
    "\n",
    "# all item attributes\n",
    "print('\\nAll attributes:')  \n",
    "for elem in root:  \n",
    "    for subelem in elem:\n",
    "        print(subelem.attrib)\n",
    "\n",
    "# one specific item's data\n",
    "print('\\nItem #2 data:')  \n",
    "print(root[0][1].text)\n",
    "\n",
    "# all items data\n",
    "print('\\nAll item data:')  \n",
    "for elem in root:  \n",
    "    for subelem in elem:\n",
    "        print(subelem.text)"
   ]
  },
  {
   "cell_type": "markdown",
   "metadata": {},
   "source": [
    "As you can see, this is very similar to the `minidom` example. One of the main differences is that the `attrib` object is simply a dictionary object, which makes it a bit more compatible with other Python code. We also don't need to use `value` to access the item's attribute value like we did before.\n",
    "\n",
    "You may have noticed how accessing objects and attributes with `ElementTree` is a bit more Pythonic, as we mentioned before. This is because the XML data is parsed as simple lists and dictionaries, unlike with `minidom` where the items are parsed as custom `xml.dom.minidom.Attr` and \"DOM Text nodes\"\n",
    "\n",
    "\n",
    "## Counting the Elements of an XML Document\n",
    "\n",
    "### Using minidom\n",
    "\n",
    "As in the previous case, the `minidom` must be imported from the `dom` module. This module provides the function `getElementsByTagName`, which we'll use to find the tag item. Once obtained, we use the `len()` built-in method to obtain the number of sub-items connected to a node. "
   ]
  },
  {
   "cell_type": "code",
   "execution_count": null,
   "metadata": {},
   "outputs": [],
   "source": [
    "from xml.dom import minidom\n",
    "\n",
    "# parse an xml file by name\n",
    "mydoc = minidom.parse('items.xml')\n",
    "\n",
    "items = mydoc.getElementsByTagName('item')\n",
    "\n",
    "# total amount of items\n",
    "print(len(items)) "
   ]
  },
  {
   "cell_type": "markdown",
   "metadata": {},
   "source": [
    "Keep in mind that this will only count the number of children items under the note you execute `len()` on, which in this case is the root node. If you want to find all sub-elements in a much larger tree, you'd need to traverse all elements and count each of their children.\n",
    "\n",
    "### Using ElementTree\n",
    "\n",
    "Similarly, the ElementTree module allows us to calculate the amount of nodes connected to a node.\n",
    "\n",
    "Example code:"
   ]
  },
  {
   "cell_type": "code",
   "execution_count": null,
   "metadata": {},
   "outputs": [],
   "source": [
    "import xml.etree.ElementTree as ET  \n",
    "tree = ET.parse('items.xml')  \n",
    "root = tree.getroot()\n",
    "\n",
    "# total amount of items\n",
    "print(len(root[0]))"
   ]
  },
  {
   "cell_type": "markdown",
   "metadata": {},
   "source": [
    "## Writing XML Documents\n",
    "\n",
    "### Using ElementTree\n",
    "\n",
    "`ElementTree` is also great for writing data to XML files. The code below shows how to create an XML file with the same structure as the file we used in the previous examples.\n",
    "\n",
    "The steps are:\n",
    "\n",
    "Create an element, which will act as our root element. In our case the tag for this element is \"data\".\n",
    "Once we have our root element, we can create sub-elements by using the `SubElement` function. This function has the syntax:\n",
    "\n",
    "`SubElement(parent, tag, attrib={}, **extra)`\n",
    "\n",
    "Here `parent` is the parent node to connect to, `attrib` is a dictionary containing the element attributes, and `extra` are additional keyword arguments. This function returns an element to us, which can be used to attach other sub-elements, as we do in the following lines by passing items to the `SubElement` constructor.\n",
    "\n",
    "Although we can add our attributes with the `SubElement` function, we can also use the `set()` function, as we do in the following code. The element text is created with the `text` property of the `Element` object.\n",
    "In the last 3 lines of the code below we create a string out of the XML tree, and we write that data to a file we open.\n",
    "Example code:"
   ]
  },
  {
   "cell_type": "code",
   "execution_count": null,
   "metadata": {},
   "outputs": [],
   "source": [
    "import xml.etree.ElementTree as ET\n",
    "\n",
    "# create the file structure\n",
    "data = ET.Element('data')  \n",
    "items = ET.SubElement(data, 'items')  \n",
    "item1 = ET.SubElement(items, 'item')  \n",
    "item2 = ET.SubElement(items, 'item')  \n",
    "item1.set('name','item1')  \n",
    "item2.set('name','item2')  \n",
    "item1.text = 'item1abc'  \n",
    "item2.text = 'item2abc'\n",
    "\n",
    "# create a new XML file with the results\n",
    "mydata = ET.tostring(data, encoding=\"unicode\", method=\"xml\")  \n",
    "myfile = open(\"items2.xml\", \"w\")  \n",
    "myfile.write(mydata); "
   ]
  },
  {
   "cell_type": "markdown",
   "metadata": {},
   "source": [
    "## Finding XML Elements\n",
    "\n",
    "### Using ElementTree\n",
    "\n",
    "The ElementTree module offers the `findall()` function, which helps us in finding specific items in the tree. It returns all items with the specified condition. In addition, the module has the function `find()`, which returns only the first sub-element that matches the specified criteria. The syntax for both of these functions are as follows:\n",
    "\n",
    "`findall(match, namespaces=None)` <br><br>\n",
    "`find(match, namespaces=None)  `\n",
    "\n",
    "For both of these functions the match parameter can be an XML tag name or a path. The function findall() returns a list of elements, and find returns a single object of type Element.\n",
    "\n",
    "In addition, there is another helper function that returns the text of the first node that matches the given criterion:\n",
    "\n",
    "`findtext(match, default=None, namespaces=None)  `\n",
    "\n",
    "Here is some example code to show you exactly how these functions operate:"
   ]
  },
  {
   "cell_type": "code",
   "execution_count": null,
   "metadata": {},
   "outputs": [],
   "source": [
    "import xml.etree.ElementTree as ET  \n",
    "tree = ET.parse('items.xml')  \n",
    "root = tree.getroot()\n",
    "\n",
    "# find the first 'item' object\n",
    "for elem in root:  \n",
    "    print(elem.find('item').get('name'))\n",
    "    \n",
    "print('\\nfind all: \\n')\n",
    "\n",
    "# find all \"item\" objects and print their \"name\" attribute\n",
    "for elem in root:  \n",
    "    for subelem in elem.findall('item'):\n",
    "\n",
    "        # if we don't need to know the name of the attribute(s), get the dict\n",
    "        print(subelem.attrib)      \n",
    "\n",
    "        # if we know the name of the attribute, access it directly\n",
    "        print(subelem.get('name'))"
   ]
  },
  {
   "cell_type": "markdown",
   "metadata": {},
   "source": [
    "## Modifying XML Elements\n",
    "\n",
    "### Using ElementTree\n",
    "\n",
    "The `ElementTree` module presents several tools for modifying existing XML documents. The example below shows how to change the name of a node, change the name of an attribute and modify its value, and how to add an extra attribute to an element.\n",
    "\n",
    "A node text can be changed by specifying the new value in the text field of the node object. The attribute's name can be redefined by using the `set(name, value)` function. The `set` function doesn't have to just work on an existing attribute, it can also be used to define a new attribute.\n",
    "\n",
    "The code below shows how to perform these operations:"
   ]
  },
  {
   "cell_type": "code",
   "execution_count": null,
   "metadata": {},
   "outputs": [],
   "source": [
    "import xml.etree.ElementTree as ET\n",
    "\n",
    "tree = ET.parse('items.xml')  \n",
    "root = tree.getroot()\n",
    "\n",
    "# changing a field text\n",
    "for elem in root.iter('item'):  \n",
    "    elem.text = 'new text'\n",
    "\n",
    "# modifying an attribute\n",
    "for elem in root.iter('item'):  \n",
    "    elem.set('name', 'newitem')\n",
    "\n",
    "# adding an attribute\n",
    "for elem in root.iter('item'):  \n",
    "    elem.set('name2', 'newitem2')\n",
    "\n",
    "tree.write('newitems.xml')  "
   ]
  },
  {
   "cell_type": "markdown",
   "metadata": {},
   "source": [
    "After running the code, the resulting XML file \"newitems.xml\" will have an XML tree with the following data:\n",
    "\n",
    "`<data>  \n",
    "    <items>\n",
    "        <item name=\"newitem\" name2=\"newitem2\">new text</item>\n",
    "        <item name=\"newitem\" name2=\"newitem2\">new text</item>\n",
    "    </items>\n",
    "</data>  `\n",
    "\n",
    "As we can see when comparing with the original XML file, the names of the item elements have changed to \"newitem\", the text to \"new text\", and the attribute \"name2\" has been added to both nodes.\n",
    "\n",
    "You may also notice that writing XML data in this way (calling tree.write with a file name) adds some more formatting to the XML tree so it contains newlines and indentation.\n",
    "\n",
    "## Creating XML Sub-Elements\n",
    "\n",
    "### Using ElementTree\n",
    "\n",
    "The `ElementTree` module has more than one way to add a new element. The first way we'll look at is by using the `makeelement()` function, which has the node name and a dictionary with its attributes as parameters.\n",
    "\n",
    "The second way is through the `SubElement()` class, which takes in the parent element and a dictionary of attributes as inputs.\n",
    "\n",
    "In our example below we show both methods. In the first case the node has no attributes, so we created an empty dictionary (`attrib = {}`). In the second case, we use a populated dictionary to create the attributes."
   ]
  },
  {
   "cell_type": "code",
   "execution_count": null,
   "metadata": {},
   "outputs": [],
   "source": [
    "import xml.etree.ElementTree as ET\n",
    "\n",
    "tree = ET.parse('items.xml')\n",
    "root = tree.getroot()\n",
    "\n",
    "# adding an element to the root node\n",
    "attrib = {}\n",
    "element = root.makeelement('seconditems', attrib)\n",
    "root.append(element)\n",
    "\n",
    "# adding an element to the seconditem node\n",
    "attrib = {'name2': 'secondname2'}\n",
    "subelement = root[0][1].makeelement('seconditem', attrib)\n",
    "ET.SubElement(root[1], 'seconditem', attrib)\n",
    "root[1][0].text = 'seconditemabc'\n",
    "\n",
    "# create a new XML file with the new element\n",
    "tree.write('newitems2.xml')"
   ]
  },
  {
   "cell_type": "markdown",
   "metadata": {},
   "source": [
    "After running this code the resulting XML file will look like this:\n",
    "\n",
    "`<data>  \n",
    "    <items>\n",
    "        <item name=\"item1\">item1abc</item>\n",
    "        <item name=\"item2\">item2abc</item>\n",
    "    </items>\n",
    "    <seconditems>\n",
    "         <seconditem name2=\"secondname2\">seconditemabc</seconditem>\n",
    "    </seconditems>\n",
    "</data>  `\n",
    "\n",
    "As we can see when comparing with the original file, the \"seconditems\" element and its sub-element \"seconditem\" have been added. In addition, the \"seconditem\" node has \"name2\" as an attribute, and its text is \"seconditemabc\", as expected."
   ]
  },
  {
   "cell_type": "markdown",
   "metadata": {},
   "source": [
    "## Deleting XML Elements\n",
    "\n",
    "### Using ElementTree\n",
    "\n",
    "As you'd probably expect, the `ElementTree` module has the necessary functionality to delete node's attributes and sub-elements.\n",
    "\n",
    "#### Deleting an attribute\n",
    "\n",
    "The code bellow shows how to remove a node's attribute by using the `pop()` function. The function applies to the attrib object parameter. It specifies the name of the attribute and sets it to None."
   ]
  },
  {
   "cell_type": "code",
   "execution_count": null,
   "metadata": {},
   "outputs": [],
   "source": [
    "import xml.etree.ElementTree as ET\n",
    "\n",
    "tree = ET.parse('items.xml')  \n",
    "root = tree.getroot()\n",
    "\n",
    "# removing an attribute\n",
    "root[0][0].attrib.pop('name', None)\n",
    "\n",
    "# create a new XML file with the results\n",
    "tree.write('newitems3.xml')  "
   ]
  },
  {
   "cell_type": "markdown",
   "metadata": {},
   "source": [
    "The result will be the following XML file:\n",
    "\n",
    "`<data>  \n",
    "    <items>\n",
    "        <item>item1abc</item>\n",
    "        <item name=\"item2\">item2abc</item>\n",
    "    </items>\n",
    "</data>  `\n",
    "\n",
    "As we can see in the XML code above, the first item has no attribute \"name\".\n",
    "\n",
    "### Deleting one sub-element\n",
    "\n",
    "One specific sub-element can be deleted using the remove function. This function must specify the node that we want to remove.\n",
    "\n",
    "The following example shows us how to use it:"
   ]
  },
  {
   "cell_type": "code",
   "execution_count": null,
   "metadata": {},
   "outputs": [],
   "source": [
    "import xml.etree.ElementTree as ET\n",
    "\n",
    "tree = ET.parse('items.xml')  \n",
    "root = tree.getroot()\n",
    "\n",
    "# removing one sub-element\n",
    "root[0].remove(root[0][0])\n",
    "\n",
    "# create a new XML file with the results\n",
    "tree.write('newitems4.xml')  "
   ]
  },
  {
   "cell_type": "markdown",
   "metadata": {},
   "source": [
    "The result will be the following XML file:\n",
    "\n",
    "`<data>  \n",
    "    <items>\n",
    "        <item name=\"item2\">item2abc</item>\n",
    "    </items>\n",
    "</data>  `\n",
    "\n",
    "As we can see from the XML code above, there is now only one \"item\" node. The second one has been removed from the original tree."
   ]
  },
  {
   "cell_type": "markdown",
   "metadata": {},
   "source": [
    "### Deleting all sub-elements\n",
    "\n",
    "The `ElementTree` module presents us with the `clear()` function, which can be used to remove all sub-elements of a given element.\n",
    "\n",
    "The example below shows us how to use `clear()`:"
   ]
  },
  {
   "cell_type": "code",
   "execution_count": null,
   "metadata": {},
   "outputs": [],
   "source": [
    "import xml.etree.ElementTree as ET\n",
    "\n",
    "tree = ET.parse('items.xml')  \n",
    "root = tree.getroot()\n",
    "\n",
    "# removing all sub-elements of an element\n",
    "root[0].clear()\n",
    "\n",
    "# create a new XML file with the results\n",
    "tree.write('newitems5.xml')  "
   ]
  },
  {
   "cell_type": "markdown",
   "metadata": {},
   "source": [
    "The result will be the following XML file:\n",
    "\n",
    "`<data>  \n",
    "    <items />\n",
    "</data>  `\n",
    "\n",
    "As we can see in the XML code above, all sub-elements of the \"items\" element have been removed from the tree.\n",
    "\n",
    "## Wrapping Up\n",
    "\n",
    "Python offers several options to handle XML files. The ElementTree module is much easier to work with and it's recommended over the minidom module.\n",
    "\n",
    "## New example and exercise to be completed and submitted\n",
    "\n",
    "\n",
    "In the next example we will also use the pandas library. Pandas is an open source, BSD-licensed library providing high-performance, easy-to-use data structures and data analysis tools for the Python programming language.\n",
    "\n",
    "data source: http://www.dbis.informatik.uni-goettingen.de/Mondial\n"
   ]
  },
  {
   "cell_type": "code",
   "execution_count": null,
   "metadata": {},
   "outputs": [],
   "source": [
    "from xml.etree import ElementTree as ET"
   ]
  },
  {
   "cell_type": "code",
   "execution_count": null,
   "metadata": {},
   "outputs": [],
   "source": [
    "document_tree = ET.parse( './data/mondial_database_less.xml' )"
   ]
  },
  {
   "cell_type": "code",
   "execution_count": null,
   "metadata": {},
   "outputs": [],
   "source": [
    "import pandas as pd"
   ]
  },
  {
   "cell_type": "code",
   "execution_count": null,
   "metadata": {},
   "outputs": [],
   "source": [
    "# print names of all countries\n",
    "for child in document_tree.getroot():\n",
    "    print (child.find('name').text)"
   ]
  },
  {
   "cell_type": "code",
   "execution_count": null,
   "metadata": {},
   "outputs": [],
   "source": [
    "# print names of all countries and their cities\n",
    "for element in document_tree.iterfind('country'):\n",
    "    print ('* ' + element.find('name').text + ':'),\n",
    "    capitals_string = ''\n",
    "    for subelement in element.getiterator('city'):\n",
    "        capitals_string += subelement.find('name').text + ', '\n",
    "    print (capitals_string[:-2])"
   ]
  },
  {
   "cell_type": "code",
   "execution_count": null,
   "metadata": {},
   "outputs": [],
   "source": [
    "document_root = document_tree.getroot()"
   ]
  },
  {
   "cell_type": "code",
   "execution_count": null,
   "metadata": {
    "scrolled": true
   },
   "outputs": [],
   "source": [
    "#the first order elements in root\n",
    "for child in document_root:\n",
    "    print (child.tag)"
   ]
  },
  {
   "cell_type": "code",
   "execution_count": null,
   "metadata": {
    "scrolled": true
   },
   "outputs": [],
   "source": [
    "#Print the infant_mortality for each country\n",
    "for element in document_tree.iterfind('country'):\n",
    "    print ('* ' + element.find('name').text + ':'),\n",
    "    infant_mortal = ''\n",
    "    for subelement in element.getiterator('infant_mortality'):\n",
    "        infant_mortal += subelement.text + ', '\n",
    "    print (infant_mortal[:-2]) #this is just to get rid of the comma at the end, so if I'm not doing a list, \n",
    "                                #just git rid of the comma in the previous line"
   ]
  },
  {
   "cell_type": "code",
   "execution_count": null,
   "metadata": {},
   "outputs": [],
   "source": [
    "document_root[1].attrib"
   ]
  },
  {
   "cell_type": "code",
   "execution_count": null,
   "metadata": {},
   "outputs": [],
   "source": [
    "for child in document_root[0]: #seeing the children under the main elements\n",
    "    print(child.tag)"
   ]
  },
  {
   "cell_type": "code",
   "execution_count": null,
   "metadata": {},
   "outputs": [],
   "source": [
    "for child in document_root[0]: #seeing the children under the main elements\n",
    "    print(child.attrib)"
   ]
  },
  {
   "cell_type": "markdown",
   "metadata": {},
   "source": [
    "****\n",
    "## XML exercise\n",
    "\n",
    "Using data in 'data/mondial_database.xml', the examples above, and refering to https://docs.python.org/2.7/library/xml.etree.elementtree.html, find\n",
    "\n",
    "1. 10 countries with the lowest infant mortality rates\n",
    "2. 10 cities with the largest population\n",
    "3. 10 ethnic groups with the largest overall populations (sum of best/latest estimates over all countries)\n",
    "4. name and country of a) longest river, b) largest lake and c) airport at highest elevation"
   ]
  },
  {
   "cell_type": "markdown",
   "metadata": {},
   "source": [
    "# Answer 1"
   ]
  },
  {
   "cell_type": "markdown",
   "metadata": {},
   "source": [
    "Finding the 10 lowest infnant mortality rates and the countries associated with them"
   ]
  },
  {
   "cell_type": "code",
   "execution_count": null,
   "metadata": {},
   "outputs": [],
   "source": [
    "from xml.etree import ElementTree as ET\n",
    "import pandas as pd\n",
    "import numpy as np"
   ]
  },
  {
   "cell_type": "code",
   "execution_count": null,
   "metadata": {},
   "outputs": [],
   "source": [
    "document = ET.parse( './data/mondial_database.xml' )"
   ]
  },
  {
   "cell_type": "code",
   "execution_count": null,
   "metadata": {},
   "outputs": [],
   "source": [
    "root = document.getroot()"
   ]
  },
  {
   "cell_type": "code",
   "execution_count": null,
   "metadata": {},
   "outputs": [],
   "source": [
    "# find all the infant mortality rates and sort them.\n",
    "inf_list = []\n",
    "for country in document.iterfind('country'):\n",
    "   \n",
    "    infant_mortal = 1000 #since the 10 lowest are wanted, this prevents missing data from appearing as the lowest (0)\n",
    "    \n",
    "    for infmor in country.getiterator('infant_mortality'):\n",
    "        infant_mortal = float(infmor.text)\n",
    "        inf_list = inf_list + [infant_mortal]\n",
    "list.sort(inf_list)\n",
    "short_inf_list = inf_list[:10]"
   ]
  },
  {
   "cell_type": "code",
   "execution_count": null,
   "metadata": {},
   "outputs": [],
   "source": [
    "a=root.findall(\"./country[infant_mortality='1.81']/name\") # finding the right syntax to call the name of the country\n",
    "a[0].text                                                 # corresponding to a mortatlity rate"
   ]
  },
  {
   "cell_type": "code",
   "execution_count": null,
   "metadata": {},
   "outputs": [],
   "source": [
    "root.findall(\"./country[infant_mortality='1.81']/name\")[0].text"
   ]
  },
  {
   "cell_type": "code",
   "execution_count": null,
   "metadata": {},
   "outputs": [],
   "source": [
    "d = \"./country[infant_mortality='1.81']/name\"\n",
    "root.findall(d)[0].text"
   ]
  },
  {
   "cell_type": "code",
   "execution_count": null,
   "metadata": {},
   "outputs": [],
   "source": [
    "#Answer 1!\n",
    "for entry in short_inf_list:\n",
    "    d =  \"./country[infant_mortality='\"+ str(entry)+\"']/name\"\n",
    "    print (root.findall(d)[0].text +  ': ' + str(entry))\n",
    "    "
   ]
  },
  {
   "cell_type": "markdown",
   "metadata": {},
   "source": [
    "# Answer 2"
   ]
  },
  {
   "cell_type": "markdown",
   "metadata": {},
   "source": [
    "Finding the top 10 cities by population"
   ]
  },
  {
   "cell_type": "code",
   "execution_count": null,
   "metadata": {},
   "outputs": [],
   "source": [
    "#Some exploration of the data\n",
    "for child in document_root[1]: #seeing the children under the main elements\n",
    "    print(child.tag)"
   ]
  },
  {
   "cell_type": "code",
   "execution_count": null,
   "metadata": {},
   "outputs": [],
   "source": [
    "for child in document_root[0]: #seeing the children under the main elements\n",
    "    print(child.attrib)"
   ]
  },
  {
   "cell_type": "code",
   "execution_count": null,
   "metadata": {},
   "outputs": [],
   "source": [
    "cityname = \"\"\n",
    "citypopulation = \"\"\n",
    "document = ET.parse( './data/mondial_database.xml' ) #NOTE this line is not technically necessary as it is already defined, \n",
    "                                                        #but it makes this answer independent of the previous one\n",
    "df = pd.DataFrame(columns=['CityName','Population']) #create data frame to hold country name and its popuplation\n",
    "df['Population'] = df['Population'].astype(float)\n",
    "\n",
    "#loop through country element to find city name and its population\n",
    "for country in document.iterfind( 'country' ):\n",
    "    for city in country.iter('city'): #find all cities within each country element\n",
    "        cityname = city.find('name').text\n",
    "        year = int(0)\n",
    "        for node in city.iterfind('population'): #find all population elements with each city\n",
    "            year = node.attrib['year'] #there are multiple population elements with different 'year' attribute\n",
    "            if node.attrib['year'] >= year: #store the population number of the latest year\n",
    "                citypopulation = int(node.text)\n",
    "        df.loc[len(df)] = [cityname,citypopulation] #add city name and its population to data frame\n",
    "        cityname = \"\"\n",
    "        \n",
    "\n",
    "#sort data frame to find 10 cities with largest population\n",
    "df.sort_values(by = 'Population', ascending=False).head(10)"
   ]
  },
  {
   "cell_type": "markdown",
   "metadata": {},
   "source": [
    "## Задача: Излистајте ги првите 10 градови со најмала популација."
   ]
  },
  {
   "cell_type": "code",
   "execution_count": 4,
   "metadata": {},
   "outputs": [],
   "source": [
    "import xml.etree.ElementTree as ET\n",
    "\n",
    "\n",
    "cities = [\n",
    "    {\"name\": \"Hum\", \"population\": 30},\n",
    "    {\"name\": \"Buford\", \"population\": 2},\n",
    "    {\"name\": \"Lost Springs\", \"population\": 4},\n",
    "    {\"name\": \"Durbuy\", \"population\": 11},\n",
    "    {\"name\": \"Valvasone\", \"population\": 13},\n",
    "    {\"name\": \"Melnik\", \"population\": 250},\n",
    "    {\"name\": \"Bonanza\", \"population\": 10},\n",
    "    {\"name\": \"Villa Epecuén\", \"population\": 1},\n",
    "    {\"name\": \"Lanarca\", \"population\": 5},\n",
    "    {\"name\": \"Monowi\", \"population\": 1},\n",
    "]\n",
    "\n",
    "\n",
    "root = ET.Element(\"Cities\")\n",
    "\n",
    "for city in cities:\n",
    "    city_element = ET.SubElement(root, \"City\")\n",
    "    name = ET.SubElement(city_element, \"Name\")\n",
    "    name.text = city[\"name\"]\n",
    "    population = ET.SubElement(city_element, \"Population\")\n",
    "    population.text = str(city[\"population\"])\n",
    "\n",
    "tree = ET.ElementTree(root)\n",
    "tree.write(\"cities.xml\", encoding=\"utf-8\", xml_declaration=True)\n"
   ]
  }
 ],
 "metadata": {
  "kernelspec": {
   "display_name": "Python 3 (ipykernel)",
   "language": "python",
   "name": "python3"
  },
  "language_info": {
   "codemirror_mode": {
    "name": "ipython",
    "version": 3
   },
   "file_extension": ".py",
   "mimetype": "text/x-python",
   "name": "python",
   "nbconvert_exporter": "python",
   "pygments_lexer": "ipython3",
   "version": "3.12.4"
  }
 },
 "nbformat": 4,
 "nbformat_minor": 4
}
