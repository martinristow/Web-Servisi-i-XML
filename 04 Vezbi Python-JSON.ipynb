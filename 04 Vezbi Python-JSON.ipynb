{
 "cells": [
  {
   "cell_type": "markdown",
   "metadata": {},
   "source": [
    "# Работа со JSON формат во Python\n",
    "\n",
    "<br>\n",
    "\n",
    "Вежби, Веб сервиси и XML, 15.03.2017\n",
    "\n",
    "доц. д-р. Светлана Кордумова Трајанова\n",
    "\n",
    "<br>\n",
    "\n",
    "\n",
    "****\n",
    "+ get familiar with packages for dealing with JSON\n",
    "+ study examples with JSON strings and files \n",
    "+ work on exercise to be completed and submitted \n",
    "****\n",
    "+ reference: http://pandas.pydata.org/pandas-docs/stable/io.html#io-json-reader\n",
    "+ data source: http://jsonstudio.com/resources/\n",
    "****\n",
    "\n",
    "\n",
    "Unstructured data is often stored in a format called JavaScript Object Notation (JSON). JSON is a way to encode data structures like lists and dictionaries to strings that ensures that they are easily readable by machines. Even though JSON starts with the word Javascript, it's actually just a format, and can be read by any language.\n",
    "\n",
    "Python has great JSON support, with the json library. We can both convert lists and dictionaries to JSON, and convert strings to lists and dictionaries. JSON data looks much like a dictionary would in Python, with keys and values stored.\n",
    "\n",
    "We'll explore the json library as well as working with JSON files using Pandas."
   ]
  },
  {
   "cell_type": "code",
   "execution_count": null,
   "metadata": {},
   "outputs": [],
   "source": [
    "import pandas as pd"
   ]
  },
  {
   "cell_type": "markdown",
   "metadata": {},
   "source": [
    "## imports for Python, Pandas"
   ]
  },
  {
   "cell_type": "code",
   "execution_count": null,
   "metadata": {},
   "outputs": [],
   "source": [
    "import json\n",
    "from pandas.io.json import json_normalize"
   ]
  },
  {
   "cell_type": "markdown",
   "metadata": {},
   "source": [
    "## JSON example, with string\n",
    "\n",
    "+ demonstrates creation of normalized dataframes (tables) from nested json string\n",
    "+ source: http://pandas.pydata.org/pandas-docs/stable/io.html#normalization"
   ]
  },
  {
   "cell_type": "code",
   "execution_count": null,
   "metadata": {},
   "outputs": [],
   "source": [
    "# define json string\n",
    "data = [{'state': 'Florida', \n",
    "         'shortname': 'FL',\n",
    "         'info': {'governor': 'Rick Scott'},\n",
    "         'counties': [{'name': 'Dade', 'population': 12345},\n",
    "                      {'name': 'Broward', 'population': 40000},\n",
    "                      {'name': 'Palm Beach', 'population': 60000}]},\n",
    "        {'state': 'Ohio',\n",
    "         'shortname': 'OH',\n",
    "         'info': {'governor': 'John Kasich'},\n",
    "         'counties': [{'name': 'Summit', 'population': 1234},\n",
    "                      {'name': 'Cuyahoga', 'population': 1337}]}]"
   ]
  },
  {
   "cell_type": "code",
   "execution_count": null,
   "metadata": {},
   "outputs": [],
   "source": [
    "# use normalization to create tables from nested element\n",
    "json_normalize(data, 'counties')"
   ]
  },
  {
   "cell_type": "code",
   "execution_count": null,
   "metadata": {},
   "outputs": [],
   "source": [
    "# further populate tables created from nested element\n",
    "json_normalize(data, 'counties', ['state', 'shortname', ['info', 'governor']])"
   ]
  },
  {
   "cell_type": "markdown",
   "metadata": {},
   "source": [
    "****\n",
    "## JSON example, with file\n",
    "\n",
    "+ demonstrates reading in a json file as a string and as a table\n",
    "+ uses small sample file containing data about projects funded by the World Bank \n",
    "+ data source: http://jsonstudio.com/resources/"
   ]
  },
  {
   "cell_type": "code",
   "execution_count": null,
   "metadata": {},
   "outputs": [],
   "source": [
    "# load json as string\n",
    "json.load((open('data/world_bank_projects_less.json')))"
   ]
  },
  {
   "cell_type": "code",
   "execution_count": null,
   "metadata": {},
   "outputs": [],
   "source": [
    "# load as Pandas dataframe\n",
    "sample_json_df = pd.read_json('data/world_bank_projects_less.json')\n",
    "sample_json_df"
   ]
  },
  {
   "cell_type": "markdown",
   "metadata": {},
   "source": [
    "****\n",
    "## JSON exercise\n",
    "\n",
    "Using data in file 'data/world_bank_projects.json' and the techniques demonstrated above,\n",
    "1. Find the 10 countries with most projects\n",
    "2. Find the top 10 major project themes (using column 'mjtheme_namecode')\n",
    "3. Print the top *lendprojectcost* with the *theme* and the *project abstract* if available\n",
    "4. Print the top *totalamt* value with the *impagency*, *countryshortname* and the *project_name* if available (**ASSIGNMENT**)"
   ]
  },
  {
   "cell_type": "code",
   "execution_count": null,
   "metadata": {},
   "outputs": [],
   "source": [
    "# load as Pandas dataframe\n",
    "exercise_json_df = pd.read_json('data/world_bank_projects.json')\n",
    "exercise_json_df"
   ]
  },
  {
   "cell_type": "code",
   "execution_count": null,
   "metadata": {},
   "outputs": [],
   "source": [
    "#Answer to question 1. \n",
    "#The method value_counts Returns object containing counts of unique values. \n",
    "#The resulting object will be in descending order so that the first element is the most frequently-occurring element. \n",
    "#Excludes NA values by default. Source https://pandas.pydata.org/pandas-docs/stable/generated/pandas.Series.value_counts.html\n",
    "exercise_json_df.countryshortname.value_counts().head(10)"
   ]
  },
  {
   "cell_type": "code",
   "execution_count": null,
   "metadata": {},
   "outputs": [],
   "source": [
    "#Answer to question 2 "
   ]
  },
  {
   "cell_type": "code",
   "execution_count": null,
   "metadata": {},
   "outputs": [],
   "source": [
    "code_df = exercise_json_df[['mjtheme_namecode']]\n",
    "#note that this makes a new dataframe of just this column, but it is still contains a list of dictionaries for each row\n",
    "#DataFrame.iloc is purely integer-location based indexing for selection by position.\n",
    "#.iloc[] is primarily integer position based (from 0 to length-1 of the axis), but may also be used with a boolean array.\n",
    "#Source https://pandas.pydata.org/pandas-docs/stable/generated/pandas.DataFrame.iloc.html\n",
    "type(code_df.iloc[0][0]), code_df.iloc[0][0]\n"
   ]
  },
  {
   "cell_type": "code",
   "execution_count": null,
   "metadata": {},
   "outputs": [],
   "source": [
    "code_df.iloc[1][0]"
   ]
  },
  {
   "cell_type": "code",
   "execution_count": null,
   "metadata": {},
   "outputs": [],
   "source": [
    "code_df.iloc[2][0]"
   ]
  },
  {
   "cell_type": "code",
   "execution_count": null,
   "metadata": {},
   "outputs": [],
   "source": [
    "for entry in code_df.iloc[0][0]: #to access the dictionary elements, this For loop goes through the list and finds each element\n",
    "    for n in entry:\n",
    "        print(entry[n])"
   ]
  },
  {
   "cell_type": "code",
   "execution_count": null,
   "metadata": {},
   "outputs": [],
   "source": [
    "code_num = [] #creates empty lists to append each entry to\n",
    "code_name = []\n",
    "for i in range(len(code_df)): #goes through each row of the dataframe\n",
    "    for entry in code_df.iloc[i][0]: #accesses the list as in the cell above\n",
    "        for n in entry:\n",
    "            l = [entry[n]] #turns the element into a list for appending\n",
    "            if n == 'code':#sorts each element into the appropriate list\n",
    "                code_num = code_num + l \n",
    "            else:\n",
    "                code_name = code_name + l\n",
    "#check out the first 10 elements\n",
    "code_num[1:10], code_name[1:10]"
   ]
  },
  {
   "cell_type": "code",
   "execution_count": null,
   "metadata": {},
   "outputs": [],
   "source": [
    "from collections import Counter\n",
    "# Returns all unique items and their counts.\n",
    "# A Counter is a dict subclass for counting hashable objects. \n",
    "# It is an unordered collection where elements are stored as dictionary keys and their counts are stored as dictionary values. \n",
    "# Counts are allowed to be any integer value including zero or negative counts.\n",
    "# Source: https://docs.python.org/2/library/collections.html#collections.Counter\n",
    "code_num = Counter(code_num)\n",
    "code_name = Counter(code_name)\n",
    "# most_common(n) returns a list of the n most common elements and their counts from the most common to the least.\n",
    "# most_common(1) would return the highest occurring item.\n",
    "# Source: https://docs.python.org/2/library/collections.html\n",
    "num = code_num.most_common(10)\n",
    "theme = code_name.most_common(10)  # num and theme are now lists of tuples including the counts\n"
   ]
  },
  {
   "cell_type": "code",
   "execution_count": null,
   "metadata": {},
   "outputs": [],
   "source": [
    "#since I don't care about the number of occurances per se, this pulls out simply the list of codes and names, excluding count\n",
    "\n",
    "for i in range(10):\n",
    "    num[i] = num[i][0]\n",
    "    theme[i] = theme[i][0]\n",
    "num, theme"
   ]
  },
  {
   "cell_type": "code",
   "execution_count": null,
   "metadata": {},
   "outputs": [],
   "source": [
    "import numpy as np\n",
    "\n",
    "sample_json_df = pd.read_json('data/world_bank_projects.json')\n",
    "lendprojectcost_list = []\n",
    "theme_list = []\n",
    "project_abstract_list = []\n",
    "\n",
    "# DataFrame.itertuples(index=True, name='Pandas')[source]\n",
    "# Iterate over DataFrame rows as namedtuples, with index value as first element of the tuple.\n",
    "# It preserve dtypes while iterating over the rows\n",
    "# Source: https://pandas.pydata.org/pandas-docs/stable/generated/pandas.DataFrame.itertuples.html#pandas.DataFrame.itertuples\n",
    "for row in sample_json_df.itertuples():\n",
    "    lendprojectcost_list.append(row.lendprojectcost)\n",
    "    theme_list.append(row.mjtheme)\n",
    "    if type(row.project_abstract) is type({}):\n",
    "        project_abstract_list.append(row.project_abstract.get(\"cdata\"))\n",
    "    else:\n",
    "        project_abstract_list.append(\"No abstract available\")\n",
    "    \n",
    "lendprojectcost_list = np.array(lendprojectcost_list)\n",
    "theme_list = np.array(theme_list)\n",
    "project_abstract_list = np.array(project_abstract_list)\n",
    "\n",
    "sorted_indexes = np.argsort(lendprojectcost_list)\n",
    "\n",
    "lendprojectcost_list = lendprojectcost_list[sorted_indexes]\n",
    "theme_list = theme_list[sorted_indexes]\n",
    "project_abstract_list = project_abstract_list[sorted_indexes]\n",
    "\n",
    "# Since np.argsort gives the sorted indeces only in ascending order, we will take the last element\n",
    "n=len(lendprojectcost_list)\n",
    "print(lendprojectcost_list[n-1], theme_list[n-1], project_abstract_list[n-1])\n"
   ]
  }
 ],
 "metadata": {
  "kernelspec": {
   "display_name": "Python 3",
   "language": "python",
   "name": "python3"
  },
  "language_info": {
   "codemirror_mode": {
    "name": "ipython",
    "version": 3
   },
   "file_extension": ".py",
   "mimetype": "text/x-python",
   "name": "python",
   "nbconvert_exporter": "python",
   "pygments_lexer": "ipython3",
   "version": "3.6.4"
  }
 },
 "nbformat": 4,
 "nbformat_minor": 1
}
